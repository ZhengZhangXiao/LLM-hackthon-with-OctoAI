{
 "cells": [
  {
   "cell_type": "code",
   "execution_count": 19,
   "metadata": {},
   "outputs": [],
   "source": [
    "#! pip install -q langchain-openai langchain langchain-text-splitters lxml octoai-sdk pymilvus\n",
    "#! pip install python-dotenv"
   ]
  },
  {
   "cell_type": "code",
   "execution_count": 20,
   "metadata": {},
   "outputs": [],
   "source": [
    "#! pip install langchain_text_splitters\n",
    "#! pip install lxml"
   ]
  },
  {
   "cell_type": "code",
   "execution_count": 21,
   "metadata": {},
   "outputs": [],
   "source": [
    "from dotenv import load_dotenv\n",
    "import os\n",
    "#from config import OCTOAI_API_TOKEN\n",
    "\n",
    "load_dotenv()\n",
    "#OPENAI_API_KEY = os.getenv[\"OPENAI_API_KEY\"]\n",
    "OCTOAI_API_TOKEN = os.getenv(\"OCTOAI_API_TOKEN\")"
   ]
  },
  {
   "cell_type": "code",
   "execution_count": 22,
   "metadata": {},
   "outputs": [],
   "source": [
    "from langchain_text_splitters import RecursiveCharacterTextSplitter, HTMLHeaderTextSplitter\n",
    "\n",
    "url = \"https://en.wikipedia.org/wiki/Friends\"\n",
    "\n",
    "headers_to_split_on = [\n",
    "    (\"h1\", \"Header 1\"),\n",
    "    (\"h2\", \"Header 2\"),\n",
    "    (\"h3\", \"Header 3\"),\n",
    "    (\"h4\", \"Header 4\"),\n",
    "    (\"div\", \"Divider\")\n",
    "]\n",
    "\n",
    "html_splitter = HTMLHeaderTextSplitter(headers_to_split_on=headers_to_split_on)\n",
    "\n",
    "# for local file use html_splitter.split_text_from_file(<path_to_file>)\n",
    "html_header_splits = html_splitter.split_text_from_url(url)"
   ]
  },
  {
   "cell_type": "code",
   "execution_count": 23,
   "metadata": {},
   "outputs": [],
   "source": [
    "chunk_size = 1024\n",
    "chunk_overlap = 128\n",
    "text_splitter = RecursiveCharacterTextSplitter(\n",
    "    chunk_size=chunk_size,\n",
    "    chunk_overlap=chunk_overlap,\n",
    ")\n",
    "\n",
    "# Split\n",
    "splits = text_splitter.split_documents(html_header_splits)"
   ]
  },
  {
   "cell_type": "code",
   "execution_count": 24,
   "metadata": {},
   "outputs": [],
   "source": [
    "from langchain_community.vectorstores import Milvus"
   ]
  },
  {
   "cell_type": "code",
   "execution_count": 25,
   "metadata": {},
   "outputs": [
    {
     "name": "stderr",
     "output_type": "stream",
     "text": [
      "/Users/eviezheng/Documents/GitHub/LLM-hackthon-with-OctoAI/venv/lib/python3.11/site-packages/langchain_core/utils/utils.py:159: UserWarning: WARNING! model is not default parameter.\n",
      "                model was transferred to model_kwargs.\n",
      "                Please confirm that model is what you intended.\n",
      "  warnings.warn(\n"
     ]
    }
   ],
   "source": [
    "from langchain_community.embeddings import OctoAIEmbeddings\n",
    "from langchain_community.llms.octoai_endpoint import OctoAIEndpoint\n",
    "llm = OctoAIEndpoint(\n",
    "        model=\"llama-2-13b-chat-fp16\",\n",
    "        max_tokens=1024,\n",
    "        presence_penalty=0,\n",
    "        temperature=0.1,\n",
    "        top_p=0.9,\n",
    "        \n",
    "    )\n",
    "embeddings = OctoAIEmbeddings(endpoint_url=\"https://text.octoai.run/v1/embeddings\")"
   ]
  },
  {
   "cell_type": "code",
   "execution_count": 26,
   "metadata": {},
   "outputs": [
    {
     "name": "stdout",
     "output_type": "stream",
     "text": [
      "Requirement already satisfied: pymilvus in /Users/eviezheng/Documents/GitHub/rag_cookbooks/venv/lib/python3.11/site-packages (2.4.1)\n",
      "Requirement already satisfied: setuptools>=67 in /Users/eviezheng/Documents/GitHub/rag_cookbooks/venv/lib/python3.11/site-packages (from pymilvus) (69.5.1)\n",
      "Requirement already satisfied: grpcio<=1.60.0,>=1.49.1 in /Users/eviezheng/Documents/GitHub/rag_cookbooks/venv/lib/python3.11/site-packages (from pymilvus) (1.60.0)\n",
      "Requirement already satisfied: protobuf>=3.20.0 in /Users/eviezheng/Documents/GitHub/rag_cookbooks/venv/lib/python3.11/site-packages (from pymilvus) (5.26.1)\n",
      "Requirement already satisfied: environs<=9.5.0 in /Users/eviezheng/Documents/GitHub/rag_cookbooks/venv/lib/python3.11/site-packages (from pymilvus) (9.5.0)\n",
      "Requirement already satisfied: ujson>=2.0.0 in /Users/eviezheng/Documents/GitHub/rag_cookbooks/venv/lib/python3.11/site-packages (from pymilvus) (5.9.0)\n",
      "Requirement already satisfied: pandas>=1.2.4 in /Users/eviezheng/Documents/GitHub/rag_cookbooks/venv/lib/python3.11/site-packages (from pymilvus) (2.2.2)\n",
      "Requirement already satisfied: requests in /Users/eviezheng/Documents/GitHub/rag_cookbooks/venv/lib/python3.11/site-packages (from pymilvus) (2.31.0)\n",
      "Requirement already satisfied: minio>=7.0.0 in /Users/eviezheng/Documents/GitHub/rag_cookbooks/venv/lib/python3.11/site-packages (from pymilvus) (7.2.7)\n",
      "Requirement already satisfied: pyarrow>=12.0.0 in /Users/eviezheng/Documents/GitHub/rag_cookbooks/venv/lib/python3.11/site-packages (from pymilvus) (16.0.0)\n",
      "Requirement already satisfied: azure-storage-blob in /Users/eviezheng/Documents/GitHub/rag_cookbooks/venv/lib/python3.11/site-packages (from pymilvus) (12.19.1)\n",
      "Requirement already satisfied: scipy in /Users/eviezheng/Documents/GitHub/rag_cookbooks/venv/lib/python3.11/site-packages (from pymilvus) (1.13.0)\n",
      "Requirement already satisfied: marshmallow>=3.0.0 in /Users/eviezheng/Documents/GitHub/rag_cookbooks/venv/lib/python3.11/site-packages (from environs<=9.5.0->pymilvus) (3.21.2)\n",
      "Requirement already satisfied: python-dotenv in /Users/eviezheng/Documents/GitHub/rag_cookbooks/venv/lib/python3.11/site-packages (from environs<=9.5.0->pymilvus) (1.0.1)\n",
      "Requirement already satisfied: certifi in /Users/eviezheng/Documents/GitHub/rag_cookbooks/venv/lib/python3.11/site-packages (from minio>=7.0.0->pymilvus) (2024.2.2)\n",
      "Requirement already satisfied: urllib3 in /Users/eviezheng/Documents/GitHub/rag_cookbooks/venv/lib/python3.11/site-packages (from minio>=7.0.0->pymilvus) (2.2.1)\n",
      "Requirement already satisfied: argon2-cffi in /Users/eviezheng/Documents/GitHub/rag_cookbooks/venv/lib/python3.11/site-packages (from minio>=7.0.0->pymilvus) (23.1.0)\n",
      "Requirement already satisfied: pycryptodome in /Users/eviezheng/Documents/GitHub/rag_cookbooks/venv/lib/python3.11/site-packages (from minio>=7.0.0->pymilvus) (3.20.0)\n",
      "Requirement already satisfied: typing-extensions in /Users/eviezheng/Documents/GitHub/rag_cookbooks/venv/lib/python3.11/site-packages (from minio>=7.0.0->pymilvus) (4.11.0)\n",
      "Requirement already satisfied: numpy>=1.23.2 in /Users/eviezheng/Documents/GitHub/rag_cookbooks/venv/lib/python3.11/site-packages (from pandas>=1.2.4->pymilvus) (1.26.4)\n",
      "Requirement already satisfied: python-dateutil>=2.8.2 in /Users/eviezheng/Documents/GitHub/rag_cookbooks/venv/lib/python3.11/site-packages (from pandas>=1.2.4->pymilvus) (2.9.0.post0)\n",
      "Requirement already satisfied: pytz>=2020.1 in /Users/eviezheng/Documents/GitHub/rag_cookbooks/venv/lib/python3.11/site-packages (from pandas>=1.2.4->pymilvus) (2024.1)\n",
      "Requirement already satisfied: tzdata>=2022.7 in /Users/eviezheng/Documents/GitHub/rag_cookbooks/venv/lib/python3.11/site-packages (from pandas>=1.2.4->pymilvus) (2024.1)\n",
      "Requirement already satisfied: azure-core<2.0.0,>=1.28.0 in /Users/eviezheng/Documents/GitHub/rag_cookbooks/venv/lib/python3.11/site-packages (from azure-storage-blob->pymilvus) (1.30.1)\n",
      "Requirement already satisfied: cryptography>=2.1.4 in /Users/eviezheng/Documents/GitHub/rag_cookbooks/venv/lib/python3.11/site-packages (from azure-storage-blob->pymilvus) (42.0.6)\n",
      "Requirement already satisfied: isodate>=0.6.1 in /Users/eviezheng/Documents/GitHub/rag_cookbooks/venv/lib/python3.11/site-packages (from azure-storage-blob->pymilvus) (0.6.1)\n",
      "Requirement already satisfied: charset-normalizer<4,>=2 in /Users/eviezheng/Documents/GitHub/rag_cookbooks/venv/lib/python3.11/site-packages (from requests->pymilvus) (3.3.2)\n",
      "Requirement already satisfied: idna<4,>=2.5 in /Users/eviezheng/Documents/GitHub/rag_cookbooks/venv/lib/python3.11/site-packages (from requests->pymilvus) (3.7)\n",
      "Requirement already satisfied: six>=1.11.0 in /Users/eviezheng/Documents/GitHub/rag_cookbooks/venv/lib/python3.11/site-packages (from azure-core<2.0.0,>=1.28.0->azure-storage-blob->pymilvus) (1.16.0)\n",
      "Requirement already satisfied: cffi>=1.12 in /Users/eviezheng/Documents/GitHub/rag_cookbooks/venv/lib/python3.11/site-packages (from cryptography>=2.1.4->azure-storage-blob->pymilvus) (1.16.0)\n",
      "Requirement already satisfied: packaging>=17.0 in /Users/eviezheng/Documents/GitHub/rag_cookbooks/venv/lib/python3.11/site-packages (from marshmallow>=3.0.0->environs<=9.5.0->pymilvus) (23.2)\n",
      "Requirement already satisfied: argon2-cffi-bindings in /Users/eviezheng/Documents/GitHub/rag_cookbooks/venv/lib/python3.11/site-packages (from argon2-cffi->minio>=7.0.0->pymilvus) (21.2.0)\n",
      "Requirement already satisfied: pycparser in /Users/eviezheng/Documents/GitHub/rag_cookbooks/venv/lib/python3.11/site-packages (from cffi>=1.12->cryptography>=2.1.4->azure-storage-blob->pymilvus) (2.22)\n"
     ]
    }
   ],
   "source": [
    "! pip install pymilvus"
   ]
  },
  {
   "cell_type": "code",
   "execution_count": 27,
   "metadata": {},
   "outputs": [],
   "source": [
    "vector_store = Milvus.from_documents(\n",
    "    splits,\n",
    "    embedding=embeddings,\n",
    "    connection_args={\"host\": \"localhost\", \"port\": 19530},\n",
    "    collection_name=\"starwars\"\n",
    ")"
   ]
  },
  {
   "cell_type": "code",
   "execution_count": 28,
   "metadata": {},
   "outputs": [],
   "source": [
    "retriever = vector_store.as_retriever()"
   ]
  },
  {
   "cell_type": "code",
   "execution_count": 29,
   "metadata": {},
   "outputs": [],
   "source": [
    "from langchain.prompts import ChatPromptTemplate\n",
    "template=\"\"\"You are an assistant for question-answering tasks. Use the following pieces of retrieved context to answer the question. If you don't know the answer, just say that you don't know. Use three sentences maximum and keep the answer concise.\n",
    "Question: {question} \n",
    "Context: {context} \n",
    "Answer:\"\"\"\n",
    "prompt = ChatPromptTemplate.from_template(template)"
   ]
  },
  {
   "cell_type": "code",
   "execution_count": 30,
   "metadata": {},
   "outputs": [],
   "source": [
    "from langchain_core.runnables import RunnablePassthrough\n",
    "from langchain_core.output_parsers import StrOutputParser\n",
    "chain = (\n",
    "    {\"context\": retriever, \"question\": RunnablePassthrough()}\n",
    "    | prompt\n",
    "    | llm\n",
    "    | StrOutputParser()\n",
    ")"
   ]
  },
  {
   "cell_type": "code",
   "execution_count": 31,
   "metadata": {},
   "outputs": [
    {
     "data": {
      "text/plain": [
       "\" Monica's actor is Courteney Cox.\""
      ]
     },
     "execution_count": 31,
     "metadata": {},
     "output_type": "execute_result"
    }
   ],
   "source": [
    "chain.invoke(\"Who is Monica's Actor?\")"
   ]
  },
  {
   "cell_type": "code",
   "execution_count": 32,
   "metadata": {},
   "outputs": [],
   "source": [
    "from langchain.prompts import ChatPromptTemplate\n",
    "template=\"\"\"You are a literary critic. You are given some context and asked to answer questions based on only that context.\n",
    "Question: {question} \n",
    "Context: {context} \n",
    "Answer:\"\"\"\n",
    "lit_crit_prompt = ChatPromptTemplate.from_template(template)"
   ]
  },
  {
   "cell_type": "code",
   "execution_count": 33,
   "metadata": {},
   "outputs": [],
   "source": [
    "from langchain_core.runnables import RunnablePassthrough\n",
    "from langchain_core.output_parsers import StrOutputParser\n",
    "lcchain = (\n",
    "    {\"context\": retriever, \"question\": RunnablePassthrough()}\n",
    "    | lit_crit_prompt\n",
    "    | llm\n",
    "    | StrOutputParser()\n",
    ")"
   ]
  },
  {
   "cell_type": "code",
   "execution_count": 34,
   "metadata": {},
   "outputs": [
    {
     "name": "stdout",
     "output_type": "stream",
     "text": [
      "(' Monica is a talented chef who is promoted to head chef at the Iridium '\n",
      " 'restaurant, but she is later fired for accepting gifts from a supplier. She '\n",
      " 'is forced to take an embarrassing job as a waitress at a 1950s-style diner '\n",
      " 'and begins dating Richard Burke, a recently divorced family friend who is 21 '\n",
      " 'years her senior. However, their relationship ends when Monica realizes that '\n",
      " \"Richard does not want more children. Joey, one of Monica's friends, is cast \"\n",
      " 'in a fictional version of the soap opera, Days of Our Lives, as neurosurgeon '\n",
      " \"Dr. Drake Ramoray, and he moves out of his and Chandler's apartment, forcing \"\n",
      " 'Chandler to get a new roommate. Throughout the first season, the writers '\n",
      " \"adjusted the characters to suit the actors, and Monica's neuroses become a \"\n",
      " 'key aspect of her character.')\n"
     ]
    }
   ],
   "source": [
    "from pprint import pprint\n",
    "\n",
    "pprint(lcchain.invoke(\"What is the Monica's actor,tell her story\"))"
   ]
  },
  {
   "cell_type": "code",
   "execution_count": null,
   "metadata": {},
   "outputs": [],
   "source": []
  }
 ],
 "metadata": {
  "kernelspec": {
   "display_name": "cbrag",
   "language": "python",
   "name": "python3"
  },
  "language_info": {
   "codemirror_mode": {
    "name": "ipython",
    "version": 3
   },
   "file_extension": ".py",
   "mimetype": "text/x-python",
   "name": "python",
   "nbconvert_exporter": "python",
   "pygments_lexer": "ipython3",
   "version": "3.11.6"
  }
 },
 "nbformat": 4,
 "nbformat_minor": 2
}
